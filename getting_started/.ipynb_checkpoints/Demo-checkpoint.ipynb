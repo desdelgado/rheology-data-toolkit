{
 "cells": [
  {
   "cell_type": "markdown",
   "metadata": {},
   "source": [
    "# Introduction\n",
    "\n",
    "\n",
    "The goal of this notebook is to provide guidence for the python package `rheodata` which is a collection of tools that clean, organize, and convert raw data off of rheometers.  \n",
    "\n",
    "\n",
    "## Installation \n",
    "Currently, `rheodata` is in [PyPi](https://pypi.org/project/rheodata/).  While this is not ideal for anaconda, one can still install the package and use it in something like spyder or jupyer notebook.  \n",
    "\n",
    "To install using pip normally use:\n",
    "\n",
    "`pip install rheodata`\n",
    "\n",
    "In your command prompt.\n",
    "\n",
    "For use in anaconda for things such as spyder or jupyter notebook, first make sure pip is installed and then enter:\n",
    "\n",
    "`pip install rheodata`\n",
    "\n",
    "in your anaconda prompt.\n",
    "\n",
    "If you have never used anaconda prompt, you can enter the above line in the terminal of your spyder program like in the image below:\n",
    "\n",
    "![Spyder Terminal](images/terminal.png)"
   ]
  },
  {
   "cell_type": "markdown",
   "metadata": {},
   "source": [
    "## Load and Use in Analysis Scripts\n",
    "\n",
    "Once it's installed, you can load it in like any other package."
   ]
  },
  {
   "cell_type": "code",
   "execution_count": 1,
   "metadata": {},
   "outputs": [],
   "source": [
    "import rheodata\n",
    "\n",
    "# Ignore pickle warnings\n",
    "import warnings\n",
    "warnings.filterwarnings(\"ignore\")"
   ]
  },
  {
   "cell_type": "markdown",
   "metadata": {},
   "source": [
    "`Rheodata` has different extractors for specific rheometers with the supported instrument models listed in the README.  Here, we are going to use an extractor for data from the Anton Paar MCR302 used at Northwestern as an example. First, we need to instantiate (basically load in) the extractor."
   ]
  },
  {
   "cell_type": "code",
   "execution_count": 2,
   "metadata": {},
   "outputs": [],
   "source": [
    "from rheodata.extractors import antonpaar\n",
    "\n",
    "rheometer = antonpaar.AntonPaarExtractor()"
   ]
  },
  {
   "cell_type": "markdown",
   "metadata": {},
   "source": [
    "We will then use some test data from an experiment looking at linseed oil.  This data can be found in the `tests/test_data/Anton_Paar/excel_test_data/` folder.  One thing to note is that for the Anton Paar, the data must be saved as an `.xlsx` file.  This is to avoid an issue with UTF-8 encoding that is still being figured out.\n",
    "\n",
    "We can pass the location of that data into the package and get back a dictionary of cleaned dataframes for each test run on the sample"
   ]
  },
  {
   "cell_type": "code",
   "execution_count": 3,
   "metadata": {},
   "outputs": [],
   "source": [
    "data = '../tests/test_data/Anton_Paar/excel_test_data/Steady State Viscosity Curve-LO50C_excel.xlsx'\n",
    "\n",
    "cleaned_dataframes = rheometer.make_analyze_dataframes(data)"
   ]
  },
  {
   "cell_type": "markdown",
   "metadata": {},
   "source": [
    "`.make_analyze_dataframes` uses the test names as keys in the dictionaries. We can query those keys and then get whatever data we want."
   ]
  },
  {
   "cell_type": "code",
   "execution_count": 4,
   "metadata": {},
   "outputs": [
    {
     "name": "stdout",
     "output_type": "stream",
     "text": [
      "dict_keys(['Steady State Viscosity Curve-LO80C', 'Steady State Viscosity Curve-75C', 'Steady State Viscosity Curve-LO70C', 'Steady State Viscosity Curve-65C', 'Steady State Viscosity Curve-60C', 'Steady State Viscosity Curve-55C', 'Steady State Viscosity Curve-LO50C', 'Steady State Viscosity Curve-LO45C', 'Steady State Viscosity Curve-LO40C', 'Steady State Viscosity Curve-35C', 'Steady State Viscosity Curve-LO30C', 'Steady State Viscosity Curve'])\n",
      "   Point No. Time Shear Rate Shear Stress Viscosity     Torque   Status\n",
      "0          1   10       0.01  -0.00022404     -22.4 -0.0073426  Dy_auto\n",
      "1          2   20     0.0147  -0.00024442     -16.7 -0.0080105  Dy_auto\n",
      "2          3   30     0.0215  -8.3392e-05      -3.9  -0.002733  Dy_auto\n",
      "3          4   40     0.0316   0.00015729         5  0.0051547  Dy_auto\n",
      "4          5   50     0.0464    0.0001165       2.5  0.0038182  Dy_auto\n",
      "5          6   60     0.0681   0.00042954       6.3   0.014077  Dy_auto\n",
      "6          7   70        0.1   0.00073792       7.4   0.024184  Dy_auto\n",
      "7          8   80      0.147    0.0017277      11.8   0.056622  Dy_auto\n",
      "8          9   90      0.215    0.0026287      12.2   0.086152  Dy_auto\n",
      "9         10  100      0.316    0.0039955      12.6    0.13095  Dy_auto\n",
      "10        11  110      0.464    0.0056826      12.2    0.18624  Dy_auto\n",
      "11        12  120      0.681      0.00878      12.9    0.28775  Dy_auto\n",
      "12        13  130          1     0.012924      12.9    0.42355  Dy_auto\n",
      "13        14  140       1.47     0.018271      12.4    0.59881  Dy_auto\n",
      "14        15  150       2.15     0.024664      11.4    0.80833  Dy_auto\n",
      "15        16  160       3.16     0.032801      10.4      1.075  Dy_auto\n",
      "16        17  170       4.64      0.04464       9.6      1.463  Dy_auto\n",
      "17        18  180       6.81     0.071327      10.5     2.3376  Dy_auto\n",
      "18        19  190         10      0.10164      10.2     3.3312  Dy_auto\n",
      "19        20  200       14.7       0.1529      10.4     5.0112  Dy_auto\n",
      "20        21  210       21.5       0.2225      10.3     7.2921  Dy_auto\n",
      "21        22  220       31.6      0.32568      10.3     10.673  Dy_auto\n",
      "22        23  230       46.4      0.47803      10.3     15.667  Dy_auto\n",
      "23        24  240       68.1      0.70286      10.3     23.035  Dy_auto\n",
      "24        25  250        100       1.0329      10.3      33.85  Dy_auto\n"
     ]
    }
   ],
   "source": [
    "print(cleaned_dataframes.keys())\n",
    "\n",
    "data_to_use = cleaned_dataframes['Steady State Viscosity Curve-LO80C']\n",
    "print(data_to_use)"
   ]
  },
  {
   "cell_type": "markdown",
   "metadata": {},
   "source": [
    "You can now do whatever data analysis you want without having to parse the raw data from the machine.  One can also automatically save this cleaned data using:"
   ]
  },
  {
   "cell_type": "code",
   "execution_count": 5,
   "metadata": {},
   "outputs": [],
   "source": [
    "rheometer.save_analyze_dataframes(data, output_folder_path=\"saved_data/\")"
   ]
  },
  {
   "cell_type": "markdown",
   "metadata": {},
   "source": [
    "Here, one needs to give the method the data path and then an output folder path.  The files are saved as CSV's with the test names as the filenames"
   ]
  },
  {
   "cell_type": "markdown",
   "metadata": {},
   "source": [
    "## Converting to HDF5\n",
    "\n",
    "We can also convert the data to an HDF5 file.  Here, each test is saved as a subfolder within the file structure.  The raw test data and the respective cleaned data is then saved in that subfolder as shown in the diagram below:\n",
    "\n",
    "![HDF5 File Structure](images/HDF5_file_structure.png)\n",
    "\n",
    "\n",
    "\n",
    "To do so, first convert the raw data into dictionaries that will be passed to the HDF5 through:"
   ]
  },
  {
   "cell_type": "code",
   "execution_count": 6,
   "metadata": {},
   "outputs": [],
   "source": [
    "data = '../tests/test_data/Anton_Paar/excel_test_data/Steady State Viscosity Curve-LO50C_excel.xlsx'\n",
    "\n",
    "modified_dict, test_raw, cols_info, units_info = rheometer.import_rheo_data(data)"
   ]
  },
  {
   "cell_type": "markdown",
   "metadata": {},
   "source": [
    "Then load the converter from the rheodata package."
   ]
  },
  {
   "cell_type": "code",
   "execution_count": 7,
   "metadata": {},
   "outputs": [],
   "source": [
    "from rheodata import data_converter"
   ]
  },
  {
   "cell_type": "markdown",
   "metadata": {},
   "source": [
    "Now convert the dictionaries to the HDF5. "
   ]
  },
  {
   "cell_type": "code",
   "execution_count": 8,
   "metadata": {},
   "outputs": [],
   "source": [
    "# Instantiate the converter\n",
    "converter = data_converter.rheo_data_transformer(modified_dict, test_raw, cols_info, units_info)\n",
    "\n",
    "# Load the data to an HDF5 and give it an output path\n",
    "save_folder_path = \"saved_data/Demo\"\n",
    "converter.load_to_hdf(save_folder_path)"
   ]
  },
  {
   "cell_type": "markdown",
   "metadata": {},
   "source": [
    "Now the data is in an HDF5 file format that can be parsed using the h5py package."
   ]
  },
  {
   "cell_type": "code",
   "execution_count": 9,
   "metadata": {},
   "outputs": [],
   "source": [
    "import h5py\n",
    "import pandas as pd"
   ]
  },
  {
   "cell_type": "code",
   "execution_count": 10,
   "metadata": {},
   "outputs": [
    {
     "name": "stdout",
     "output_type": "stream",
     "text": [
      "<KeysViewHDF5 ['Steady State Viscosity Curve', 'Steady State Viscosity Curve-35C', 'Steady State Viscosity Curve-55C', 'Steady State Viscosity Curve-60C', 'Steady State Viscosity Curve-65C', 'Steady State Viscosity Curve-75C', 'Steady State Viscosity Curve-LO30C', 'Steady State Viscosity Curve-LO40C', 'Steady State Viscosity Curve-LO45C', 'Steady State Viscosity Curve-LO50C', 'Steady State Viscosity Curve-LO70C', 'Steady State Viscosity Curve-LO80C']>\n",
      "<KeysViewHDF5 ['clean_data', 'raw_data']>\n",
      "    1    2       3          4      5         6        7\n",
      "0   1   10    0.01  0.0028294  282.9  0.092729  Dy_auto\n",
      "1   2   20  0.0147  0.0029057    198   0.09523  Dy_auto\n",
      "2   3   30  0.0215  0.0031513  146.3   0.10328  Dy_auto\n",
      "3   4   40  0.0316  0.0033997  107.5   0.11142  Dy_auto\n",
      "4   5   50  0.0464   0.003447   74.3   0.11297  Dy_auto\n",
      "5   6   60  0.0681  0.0035772   52.5   0.11724  Dy_auto\n",
      "6   7   70     0.1   0.003675   36.8   0.12044  Dy_auto\n",
      "7   8   80   0.147  0.0042936   29.3   0.14072  Dy_auto\n",
      "8   9   90   0.215   0.004926   22.9   0.16144  Dy_auto\n",
      "9  10  100   0.316  0.0064417   20.4   0.21112  Dy_auto\n"
     ]
    }
   ],
   "source": [
    "f = h5py.File(\"saved_data/Demo.hdf5\", \"r\")\n",
    "\n",
    "print(f[\"Project\"].keys())\n",
    "print(f[\"Project\"]['Steady State Viscosity Curve-75C'].keys())\n",
    "\n",
    "# Read the data into a dataframe\n",
    "raw_data = pd.read_hdf(\"saved_data/Demo.hdf5\", 'Project/Steady State Viscosity Curve-75C/clean_data')\n",
    "print(raw_data.head(10))\n",
    "f.close()\n"
   ]
  },
  {
   "cell_type": "markdown",
   "metadata": {},
   "source": [
    "Note: make sure to close your HDF5 file after looking at it."
   ]
  },
  {
   "cell_type": "markdown",
   "metadata": {},
   "source": [
    "## Pre-exsiting Metadata  and Adding Metadata\n",
    "\n",
    "\n",
    "Finally, once the raw data is converted into the HDF5 format, we can add metadata to the different folders.  But before we can do that, the package already adds the column and unit metadata to each test subfolder.  Its saved under the attribute 'columns'.  Let's open up the HDF5 file and then check those out."
   ]
  },
  {
   "cell_type": "code",
   "execution_count": 11,
   "metadata": {
    "scrolled": true
   },
   "outputs": [
    {
     "name": "stdout",
     "output_type": "stream",
     "text": [
      "{\"names\": [\"Point No.\", \"Time\", \"Shear Rate\", \"Shear Stress\", \"Viscosity\", \"Torque\", \"Status\"], \"units\": [\"NaN\", \"[s]\", \"[1/s]\", \"[Pa]\", \"[mPa\\u00b7s]\", \"[\\u00b5N\\u00b7m]\", \"NaN\"]}\n"
     ]
    }
   ],
   "source": [
    "f = h5py.File(\"saved_data/Demo.hdf5\", \"r\")\n",
    "print(f[\"Project\"]['Steady State Viscosity Curve-55C'].attrs[\"columns\"])\n",
    "f.close()"
   ]
  },
  {
   "cell_type": "markdown",
   "metadata": {},
   "source": [
    "Because HDF5 doesn't accept dictionaries as attribuates, this column and unit metadata are added in as a JSON and hence the weird encoding such as \"mPa\\u00b7s.\"  One can convert the JSON to a python dictionary using the code below."
   ]
  },
  {
   "cell_type": "code",
   "execution_count": 12,
   "metadata": {},
   "outputs": [
    {
     "name": "stdout",
     "output_type": "stream",
     "text": [
      "<class 'dict'>\n",
      "dict_keys(['names', 'units'])\n",
      "['NaN', '[s]', '[1/s]', '[Pa]', '[mPa·s]', '[µN·m]', 'NaN']\n"
     ]
    }
   ],
   "source": [
    "import json \n",
    "\n",
    "f = h5py.File(\"saved_data/Demo.hdf5\", \"r\")\n",
    "cols_metadata_json = f[\"Project\"]['Steady State Viscosity Curve-55C'].attrs[\"columns\"]\n",
    "cols_metadata = json.loads(cols_metadata_json)\n",
    "f.close()\n",
    "print(type(cols_metadata))\n",
    "print(cols_metadata.keys())\n",
    "print(cols_metadata['units'])"
   ]
  },
  {
   "cell_type": "code",
   "execution_count": 13,
   "metadata": {},
   "outputs": [],
   "source": [
    "project_metadata = {\n",
    "    \"Project_Name\": \"Demo\",\n",
    "    'Author': 'John Doe',\n",
    "    \"Doi\": \"https//8675309\",\n",
    "    'Test_Type': \"Strain Sweep\",\n",
    "    'Polymer': ['polystyrene sulfonate', 'poly (4-vinylpyridine)'],\n",
    "    \"Instrument\": \"Anton Paar MCR32\"\n",
    "}\n",
    "\n",
    "converter.add_project_metadata(\"saved_data/Demo.hdf5\", project_metadata)"
   ]
  },
  {
   "cell_type": "markdown",
   "metadata": {},
   "source": [
    "We can then check that this metadata made it into the file."
   ]
  },
  {
   "cell_type": "code",
   "execution_count": 14,
   "metadata": {},
   "outputs": [
    {
     "name": "stdout",
     "output_type": "stream",
     "text": [
      "Demo\n",
      "John Doe\n",
      "https//8675309\n",
      "Strain Sweep\n",
      "['polystyrene sulfonate' 'poly (4-vinylpyridine)']\n",
      "Anton Paar MCR32\n"
     ]
    }
   ],
   "source": [
    "f = h5py.File(\"saved_data/Demo.hdf5\", \"r\")\n",
    "print(f.attrs[\"Project_Name\"])\n",
    "print(f.attrs[\"Author\"])\n",
    "print(f.attrs[\"Doi\"])\n",
    "print(f.attrs[\"Test_Type\"])\n",
    "print(f.attrs[\"Polymer\"])\n",
    "print(f.attrs[\"Instrument\"])\n",
    "f.close()"
   ]
  },
  {
   "cell_type": "markdown",
   "metadata": {},
   "source": [
    "We can also add metadata to the test subfolders using:"
   ]
  },
  {
   "cell_type": "code",
   "execution_count": 15,
   "metadata": {},
   "outputs": [],
   "source": [
    "test_metadata = {\n",
    "    'Steady State Viscosity Curve-LO80C':\n",
    "    {\n",
    "    \"Temperature\":80,\n",
    "    \"Test Type\": \"Strain Sweep\",\n",
    "    \"Polyanion_MW\":100000,\n",
    "    \"Polycation_MW\": 100000,\n",
    "    \"Polyanion_Charge_Fraction\": 100,\n",
    "    \"Polycation_Charge_Fraction\": 100,\n",
    "    \"Salt_Type\": \"potassium bromide\",\n",
    "    \"Salt_Concentration\": 10,\n",
    "    \"Solvent\": \"water\",\n",
    "    \"Solvent_concentration\":25,\n",
    "    \"columns\":[]\n",
    "    },\n",
    "\n",
    "    'Steady State Viscosity Curve-75C':\n",
    "    {\n",
    "    \"Temperature\":75,\n",
    "    \"Test Type\": \"Freq Sweep\",\n",
    "    \"Polyanion_MW\":500,\n",
    "    \"Polycation_MW\": 5000,\n",
    "    \"Polyanion_Charge_Fraction\": 100,\n",
    "    \"Polycation_Charge_Fraction\": 100,\n",
    "    \"Salt_Type\": \"potassium bromide\",\n",
    "    \"Salt_Concentration\": 20,\n",
    "    \"Solvent\": \"water\",\n",
    "    \"Solvent_concentration\":10,\n",
    "    \"columns\":[]\n",
    "    }\n",
    "}\n",
    "\n",
    "converter.add_test_metadata(test_metadata)"
   ]
  },
  {
   "cell_type": "markdown",
   "metadata": {},
   "source": [
    "We need to pass in a dictionary of dictionaries with the test names being the higher level keys and the information being the lower level keys.  We can then check to make sure this information was added to the file:"
   ]
  },
  {
   "cell_type": "code",
   "execution_count": 16,
   "metadata": {},
   "outputs": [
    {
     "name": "stdout",
     "output_type": "stream",
     "text": [
      "75\n",
      "80\n",
      "500\n",
      "100000\n"
     ]
    }
   ],
   "source": [
    "f = h5py.File(\"saved_data/Demo.hdf5\", \"r\")\n",
    "print(f[\"Project/Steady State Viscosity Curve-75C\"].attrs[\"Temperature\"])\n",
    "print(f[\"Project/Steady State Viscosity Curve-LO80C\"].attrs[\"Temperature\"])\n",
    "\n",
    "print(f[\"Project/Steady State Viscosity Curve-75C\"].attrs[\"Polyanion_MW\"])\n",
    "print(f[\"Project/Steady State Viscosity Curve-LO80C\"].attrs[\"Polyanion_MW\"])\n",
    "\n",
    "f.close()"
   ]
  }
 ],
 "metadata": {
  "kernelspec": {
   "display_name": "Python 3",
   "language": "python",
   "name": "python3"
  },
  "language_info": {
   "codemirror_mode": {
    "name": "ipython",
    "version": 3
   },
   "file_extension": ".py",
   "mimetype": "text/x-python",
   "name": "python",
   "nbconvert_exporter": "python",
   "pygments_lexer": "ipython3",
   "version": "3.7.6"
  }
 },
 "nbformat": 4,
 "nbformat_minor": 4
}
